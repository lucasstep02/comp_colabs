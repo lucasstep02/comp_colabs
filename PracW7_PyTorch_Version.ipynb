{
  "nbformat": 4,
  "nbformat_minor": 0,
  "metadata": {
    "colab": {
      "provenance": [],
      "gpuType": "T4"
    },
    "kernelspec": {
      "name": "python3",
      "display_name": "Python 3"
    },
    "language_info": {
      "name": "python"
    },
    "accelerator": "GPU"
  },
  "cells": [
    {
      "cell_type": "markdown",
      "metadata": {
        "id": "view-in-github"
      },
      "source": [
        "<a href=\"https://colab.research.google.com/github/nathasha-naranpanawa/COMP4702_2024/blob/main/PracW7_PyTorch_Version.ipynb\" target=\"_parent\"><img src=\"https://colab.research.google.com/assets/colab-badge.svg\" alt=\"Open In Colab\"/></a>"
      ]
    },
    {
      "cell_type": "code",
      "execution_count": 2,
      "metadata": {
        "colab": {
          "base_uri": "https://localhost:8080/"
        },
        "id": "pk2LRKoHzr37",
        "outputId": "ca1025e1-d41b-4bff-b904-305917c2d0f1"
      },
      "outputs": [
        {
          "output_type": "stream",
          "name": "stdout",
          "text": [
            "2.2.1+cu121\n"
          ]
        }
      ],
      "source": [
        "# import pytorch libraries\n",
        "import torch\n",
        "import torch.nn as nn\n",
        "import torch.optim as optim\n",
        "import numpy as np\n",
        "from torchvision import datasets, transforms\n",
        "from torch.utils.data import DataLoader, random_split\n",
        "\n",
        "print(torch.__version__)\n"
      ]
    },
    {
      "cell_type": "code",
      "source": [
        "# Optional to run code on GPU\n",
        "# Check if CUDA is available and if device is GPU\n",
        "print('Cuda Available : {}'.format(torch.cuda.is_available()))\n",
        "#if (cuda.is_available) <- does not work\n",
        "print('GPU - {0}'.format(torch.cuda.get_device_name()))\n",
        "\n",
        "# Note:\n",
        "# If this gives you an error on Google colab, go into 'Additional connection otions' > 'Change runtime type' > Select a GPU as the Hardware Accelerator\n",
        "# If you're running code on your machine locally, your machine needs have a GPU supported graphics card and CUDA installed."
      ],
      "metadata": {
        "colab": {
          "base_uri": "https://localhost:8080/"
        },
        "id": "8vOsKqbjz9OT",
        "outputId": "266a65a9-a584-451b-aea0-0e536dc135b7"
      },
      "execution_count": 3,
      "outputs": [
        {
          "output_type": "stream",
          "name": "stdout",
          "text": [
            "Cuda Available : True\n",
            "GPU - Tesla T4\n"
          ]
        }
      ]
    },
    {
      "cell_type": "markdown",
      "source": [
        "### Here's a great beginner tutorial for reference on how to train a classifier with PyTorch on image data: [Training a classifier](https://pytorch.org/tutorials/beginner/blitz/cifar10_tutorial.html)"
      ],
      "metadata": {
        "id": "QJlo396F20sg"
      }
    },
    {
      "cell_type": "markdown",
      "source": [
        "# Q3"
      ],
      "metadata": {
        "id": "fI7-gq2w1VBl"
      }
    },
    {
      "cell_type": "code",
      "source": [
        "# Load MNIST dataset\n",
        "mnist_train = datasets.MNIST('data', train=True, download=True)\n",
        "mnist_test = datasets.MNIST('data', train=False, download=True)"
      ],
      "metadata": {
        "id": "ToI70IEC1Het",
        "colab": {
          "base_uri": "https://localhost:8080/"
        },
        "outputId": "69c506cf-d078-45d1-f1a3-c1d3a61e67e1"
      },
      "execution_count": 4,
      "outputs": [
        {
          "output_type": "stream",
          "name": "stdout",
          "text": [
            "Downloading http://yann.lecun.com/exdb/mnist/train-images-idx3-ubyte.gz\n",
            "Failed to download (trying next):\n",
            "HTTP Error 403: Forbidden\n",
            "\n",
            "Downloading https://ossci-datasets.s3.amazonaws.com/mnist/train-images-idx3-ubyte.gz\n",
            "Downloading https://ossci-datasets.s3.amazonaws.com/mnist/train-images-idx3-ubyte.gz to data/MNIST/raw/train-images-idx3-ubyte.gz\n"
          ]
        },
        {
          "output_type": "stream",
          "name": "stderr",
          "text": [
            "100%|██████████| 9912422/9912422 [00:00<00:00, 16538134.01it/s]\n"
          ]
        },
        {
          "output_type": "stream",
          "name": "stdout",
          "text": [
            "Extracting data/MNIST/raw/train-images-idx3-ubyte.gz to data/MNIST/raw\n",
            "\n",
            "Downloading http://yann.lecun.com/exdb/mnist/train-labels-idx1-ubyte.gz\n",
            "Failed to download (trying next):\n",
            "HTTP Error 403: Forbidden\n",
            "\n",
            "Downloading https://ossci-datasets.s3.amazonaws.com/mnist/train-labels-idx1-ubyte.gz\n",
            "Downloading https://ossci-datasets.s3.amazonaws.com/mnist/train-labels-idx1-ubyte.gz to data/MNIST/raw/train-labels-idx1-ubyte.gz\n"
          ]
        },
        {
          "output_type": "stream",
          "name": "stderr",
          "text": [
            "100%|██████████| 28881/28881 [00:00<00:00, 504284.51it/s]\n"
          ]
        },
        {
          "output_type": "stream",
          "name": "stdout",
          "text": [
            "Extracting data/MNIST/raw/train-labels-idx1-ubyte.gz to data/MNIST/raw\n",
            "\n",
            "Downloading http://yann.lecun.com/exdb/mnist/t10k-images-idx3-ubyte.gz\n",
            "Failed to download (trying next):\n",
            "HTTP Error 403: Forbidden\n",
            "\n",
            "Downloading https://ossci-datasets.s3.amazonaws.com/mnist/t10k-images-idx3-ubyte.gz\n",
            "Downloading https://ossci-datasets.s3.amazonaws.com/mnist/t10k-images-idx3-ubyte.gz to data/MNIST/raw/t10k-images-idx3-ubyte.gz\n"
          ]
        },
        {
          "output_type": "stream",
          "name": "stderr",
          "text": [
            "100%|██████████| 1648877/1648877 [00:00<00:00, 4441500.42it/s]\n"
          ]
        },
        {
          "output_type": "stream",
          "name": "stdout",
          "text": [
            "Extracting data/MNIST/raw/t10k-images-idx3-ubyte.gz to data/MNIST/raw\n",
            "\n",
            "Downloading http://yann.lecun.com/exdb/mnist/t10k-labels-idx1-ubyte.gz\n",
            "Failed to download (trying next):\n",
            "HTTP Error 403: Forbidden\n",
            "\n",
            "Downloading https://ossci-datasets.s3.amazonaws.com/mnist/t10k-labels-idx1-ubyte.gz\n",
            "Downloading https://ossci-datasets.s3.amazonaws.com/mnist/t10k-labels-idx1-ubyte.gz to data/MNIST/raw/t10k-labels-idx1-ubyte.gz\n"
          ]
        },
        {
          "output_type": "stream",
          "name": "stderr",
          "text": [
            "100%|██████████| 4542/4542 [00:00<00:00, 11005504.78it/s]\n"
          ]
        },
        {
          "output_type": "stream",
          "name": "stdout",
          "text": [
            "Extracting data/MNIST/raw/t10k-labels-idx1-ubyte.gz to data/MNIST/raw\n",
            "\n"
          ]
        }
      ]
    },
    {
      "cell_type": "code",
      "source": [
        "# visualise the dataset\n",
        "\n",
        "import matplotlib.pyplot as plt\n",
        "\n",
        "# Define a function to visualize images and their labels\n",
        "def visualize_samples(dataset, num_samples=10):\n",
        "    fig, axes = plt.subplots(1, num_samples, figsize=(15, 3))\n",
        "    for i in range(num_samples):\n",
        "        idx = np.random.randint(0, len(dataset))\n",
        "        image, label = dataset[idx]\n",
        "        axes[i].imshow(image, cmap='gray')\n",
        "        axes[i].set_title(f'Label: {label}')\n",
        "        axes[i].axis('off')\n",
        "    plt.show()\n",
        "\n",
        "# Visualize samples from the training set\n",
        "visualize_samples(mnist_train)"
      ],
      "metadata": {
        "colab": {
          "base_uri": "https://localhost:8080/",
          "height": 154
        },
        "id": "pUV_axNC1YyF",
        "outputId": "3a1329da-8815-4c6c-dea4-1146d8d34244"
      },
      "execution_count": 5,
      "outputs": [
        {
          "output_type": "display_data",
          "data": {
            "text/plain": [
              "<Figure size 1500x300 with 10 Axes>"
            ],
            "image/png": "[encoded data removed]"
          },
          "metadata": {}
        }
      ]
    },
    {
      "cell_type": "code",
      "source": [
        "# Check MNIST statistics\n",
        "print('Min Pixel Value: {} \\nMax Pixel Value: {}'.format(mnist_train.data.min(), mnist_train.data.max()))\n",
        "print('Mean Pixel Value {} \\nPixel Values Std: {}'.format(mnist_train.data.float().mean(), mnist_train.data.float().std()))\n",
        "print('Scaled Mean Pixel Value {} \\nScaled Pixel Values Std: {}'.format(mnist_train.data.float().mean() / 255, mnist_train.data.float().std() / 255))"
      ],
      "metadata": {
        "colab": {
          "base_uri": "https://localhost:8080/"
        },
        "id": "yQkeckSa1gpv",
        "outputId": "93b3607b-d116-40c9-fdf4-6d093912ff53"
      },
      "execution_count": 6,
      "outputs": [
        {
          "output_type": "stream",
          "name": "stdout",
          "text": [
            "Min Pixel Value: 0 \n",
            "Max Pixel Value: 255\n",
            "Mean Pixel Value 33.31842041015625 \n",
            "Pixel Values Std: 78.56748962402344\n",
            "Scaled Mean Pixel Value 0.13066047430038452 \n",
            "Scaled Pixel Values Std: 0.30810779333114624\n"
          ]
        }
      ]
    },
    {
      "cell_type": "code",
      "source": [
        "# normalize and prepare data for training the model\n",
        "\n",
        "# Define transformations\n",
        "transform = transforms.Compose([\n",
        "    transforms.ToTensor(),  # Convert PIL Image to tensor\n",
        "    transforms.Normalize((0.1307,), (0.3081,))  # Normalize the pixel values\n",
        "])\n",
        "\n",
        "# TODO: Load MNIST training dataset with transformations\n",
        "mnist_train = datasets.MNIST('data', train=True, download=True, transform=transform)\n",
        "mnist_train = datasets.MNIST('data', train=False, download=True, transform=transform)\n",
        "\n",
        "\n",
        "# TODO: Split dataset into training, validation, and test sets\n",
        "train_size = int(0.8 * len(mnist_train))\n",
        "val_size = len(mnist_train) - train_size\n",
        "mnist_train, mnist_val = random_split(mnist_train, [train_size, val_size])\n",
        "\n",
        "# TODO: Define data loaders\n",
        "train_loader = DataLoader(mnist_train, batch_size=50, shuffle=True)\n",
        "val_loader = DataLoader(mnist_val, batch_size=50, shuffle=True)\n",
        "test_loader = DataLoader(mnist_train, batch_size=50)"
      ],
      "metadata": {
        "id": "SrX7Zpyp2C62"
      },
      "execution_count": 21,
      "outputs": []
    },
    {
      "cell_type": "code",
      "source": [
        "# TODO: Define MLP model\n",
        "class MLP(nn.Module):\n",
        "    def __init__(self):\n",
        "        super(MLP, self).__init__()\n",
        "        #TODO: define the layers of the model here\n",
        "\n",
        "        #Input layer\n",
        "        self.flatten = nn.Flatten()\n",
        "\n",
        "        #Hidden layers\n",
        "        self.fc1 = nn.Linear(28*28, 512)\n",
        "        self.fc2 = nn.Linear(512, 256)\n",
        "\n",
        "        #Output layer\n",
        "        self.output = nn.Linear(256, 10)\n",
        "    def forward(self, x):\n",
        "        #TODO: pass the data through each layer of the model here\n",
        "        x = self.flatten(x)\n",
        "        x = torch.relu(self.fc1(x)) # first hidden layer\n",
        "        x = torch.relu(self.fc2(x)) # second hidden layer\n",
        "        output = self.output(x)\n",
        "\n",
        "        return x"
      ],
      "metadata": {
        "id": "X_cksHyF2cxT"
      },
      "execution_count": 22,
      "outputs": []
    },
    {
      "cell_type": "code",
      "source": [
        "!pip install tqdm"
      ],
      "metadata": {
        "colab": {
          "base_uri": "https://localhost:8080/"
        },
        "id": "X5cUShw82dgk",
        "outputId": "63957773-f2c2-406a-d798-a5f63bb98857"
      },
      "execution_count": 9,
      "outputs": [
        {
          "output_type": "stream",
          "name": "stdout",
          "text": [
            "Requirement already satisfied: tqdm in /usr/local/lib/python3.10/dist-packages (4.66.2)\n"
          ]
        }
      ]
    },
    {
      "cell_type": "code",
      "source": [
        "from tqdm import tqdm\n",
        "\n",
        "# Initialize model\n",
        "device = 'cuda' if torch.cuda.is_available() else 'cpu'\n",
        "model = MLP().to(device)\n",
        "\n",
        "# TODO: Define the following for your model\n",
        "# loss function\n",
        "loss_func = nn.CrossEntropyLoss()\n",
        "\n",
        "# learning rate\n",
        "learning_rate = 1e-4\n",
        "\n",
        "# optimizer\n",
        "optimizer = optim.SGD(model.parameters(), lr=learning_rate)\n",
        "\n",
        "# number of epochs to train the model\n",
        "num_epochs = 50\n",
        "\n",
        "\n",
        "# Training loop\n",
        "for epoch in range(num_epochs):\n",
        "    # TODO: train the model\n",
        "    model.train()\n",
        "    for batch_idx, (data, targets) in enumerate(tqdm(train_loader, desc=f\"Epoch {epoch+1}\")):\n",
        "      # get the inputs from train data loader\n",
        "      # zero the parameter gradients\n",
        "      optimizer.zero_grad()\n",
        "      # forward pass through the model\n",
        "      outputs = model(data.to(device))\n",
        "      # backward propagation + optimize\n",
        "      loss = loss_func(outputs, targets.to(device))\n",
        "      loss.backward()\n",
        "      optimizer.step()\n",
        "      # print statistics\n",
        "\n",
        "    # TODO: Validate the model\n",
        "      # get inputs from validation data loader\n",
        "      # forward pass + get predicted outputs\n",
        "      # calculate accuracy of predictions\n",
        "      # print statistics\n",
        "    model.eval()\n",
        "    correct = 0\n",
        "    total = 0\n",
        "    with torch.no_grad():\n",
        "      for data, targets in val_loader:\n",
        "        outputs = model(data.to(device))\n",
        "        _, predicted = torch.max(outputs, 1)\n",
        "        predicted = predicted.cpu()\n",
        "        total += targets.size(0)\n",
        "        correct += (predicted == targets).sum().item()\n",
        "\n",
        "    val_accuracy = 100 * correct / total\n",
        "\n",
        "    # Print validation accuracy\n",
        "    print(f\"Epoch [{epoch+1}/{num_epochs}], Validation Accuracy: {val_accuracy:.2f}%\")\n"
      ],
      "metadata": {
        "colab": {
          "base_uri": "https://localhost:8080/"
        },
        "id": "6GngIqs22gN6",
        "outputId": "232f2e4c-5229-4903-9bad-89ca674efbea"
      },
      "execution_count": 23,
      "outputs": [
        {
          "output_type": "stream",
          "name": "stderr",
          "text": [
            "Epoch 1: 100%|██████████| 160/160 [00:01<00:00, 80.18it/s]\n"
          ]
        },
        {
          "output_type": "stream",
          "name": "stdout",
          "text": [
            "Epoch [1/50], Validation Accuracy: 1.90%\n"
          ]
        },
        {
          "output_type": "stream",
          "name": "stderr",
          "text": [
            "Epoch 2: 100%|██████████| 160/160 [00:02<00:00, 77.16it/s]\n"
          ]
        },
        {
          "output_type": "stream",
          "name": "stdout",
          "text": [
            "Epoch [2/50], Validation Accuracy: 4.60%\n"
          ]
        },
        {
          "output_type": "stream",
          "name": "stderr",
          "text": [
            "Epoch 3: 100%|██████████| 160/160 [00:02<00:00, 67.17it/s]\n"
          ]
        },
        {
          "output_type": "stream",
          "name": "stdout",
          "text": [
            "Epoch [3/50], Validation Accuracy: 12.00%\n"
          ]
        },
        {
          "output_type": "stream",
          "name": "stderr",
          "text": [
            "Epoch 4: 100%|██████████| 160/160 [00:01<00:00, 82.99it/s]\n"
          ]
        },
        {
          "output_type": "stream",
          "name": "stdout",
          "text": [
            "Epoch [4/50], Validation Accuracy: 19.50%\n"
          ]
        },
        {
          "output_type": "stream",
          "name": "stderr",
          "text": [
            "Epoch 5: 100%|██████████| 160/160 [00:01<00:00, 83.32it/s]\n"
          ]
        },
        {
          "output_type": "stream",
          "name": "stdout",
          "text": [
            "Epoch [5/50], Validation Accuracy: 25.75%\n"
          ]
        },
        {
          "output_type": "stream",
          "name": "stderr",
          "text": [
            "Epoch 6: 100%|██████████| 160/160 [00:01<00:00, 84.95it/s]\n"
          ]
        },
        {
          "output_type": "stream",
          "name": "stdout",
          "text": [
            "Epoch [6/50], Validation Accuracy: 30.00%\n"
          ]
        },
        {
          "output_type": "stream",
          "name": "stderr",
          "text": [
            "Epoch 7: 100%|██████████| 160/160 [00:02<00:00, 76.01it/s]\n"
          ]
        },
        {
          "output_type": "stream",
          "name": "stdout",
          "text": [
            "Epoch [7/50], Validation Accuracy: 33.15%\n"
          ]
        },
        {
          "output_type": "stream",
          "name": "stderr",
          "text": [
            "Epoch 8: 100%|██████████| 160/160 [00:02<00:00, 71.52it/s]\n"
          ]
        },
        {
          "output_type": "stream",
          "name": "stdout",
          "text": [
            "Epoch [8/50], Validation Accuracy: 36.15%\n"
          ]
        },
        {
          "output_type": "stream",
          "name": "stderr",
          "text": [
            "Epoch 9: 100%|██████████| 160/160 [00:01<00:00, 83.46it/s]\n"
          ]
        },
        {
          "output_type": "stream",
          "name": "stdout",
          "text": [
            "Epoch [9/50], Validation Accuracy: 38.05%\n"
          ]
        },
        {
          "output_type": "stream",
          "name": "stderr",
          "text": [
            "Epoch 10: 100%|██████████| 160/160 [00:01<00:00, 81.10it/s]\n"
          ]
        },
        {
          "output_type": "stream",
          "name": "stdout",
          "text": [
            "Epoch [10/50], Validation Accuracy: 40.30%\n"
          ]
        },
        {
          "output_type": "stream",
          "name": "stderr",
          "text": [
            "Epoch 11: 100%|██████████| 160/160 [00:01<00:00, 85.10it/s]\n"
          ]
        },
        {
          "output_type": "stream",
          "name": "stdout",
          "text": [
            "Epoch [11/50], Validation Accuracy: 41.95%\n"
          ]
        },
        {
          "output_type": "stream",
          "name": "stderr",
          "text": [
            "Epoch 12: 100%|██████████| 160/160 [00:02<00:00, 72.76it/s]\n"
          ]
        },
        {
          "output_type": "stream",
          "name": "stdout",
          "text": [
            "Epoch [12/50], Validation Accuracy: 43.45%\n"
          ]
        },
        {
          "output_type": "stream",
          "name": "stderr",
          "text": [
            "Epoch 13: 100%|██████████| 160/160 [00:02<00:00, 72.53it/s]\n"
          ]
        },
        {
          "output_type": "stream",
          "name": "stdout",
          "text": [
            "Epoch [13/50], Validation Accuracy: 45.15%\n"
          ]
        },
        {
          "output_type": "stream",
          "name": "stderr",
          "text": [
            "Epoch 14: 100%|██████████| 160/160 [00:01<00:00, 84.10it/s]\n"
          ]
        },
        {
          "output_type": "stream",
          "name": "stdout",
          "text": [
            "Epoch [14/50], Validation Accuracy: 46.85%\n"
          ]
        },
        {
          "output_type": "stream",
          "name": "stderr",
          "text": [
            "Epoch 15: 100%|██████████| 160/160 [00:01<00:00, 85.36it/s]\n"
          ]
        },
        {
          "output_type": "stream",
          "name": "stdout",
          "text": [
            "Epoch [15/50], Validation Accuracy: 48.60%\n"
          ]
        },
        {
          "output_type": "stream",
          "name": "stderr",
          "text": [
            "Epoch 16: 100%|██████████| 160/160 [00:01<00:00, 84.78it/s]\n"
          ]
        },
        {
          "output_type": "stream",
          "name": "stdout",
          "text": [
            "Epoch [16/50], Validation Accuracy: 50.15%\n"
          ]
        },
        {
          "output_type": "stream",
          "name": "stderr",
          "text": [
            "Epoch 17: 100%|██████████| 160/160 [00:02<00:00, 73.11it/s]\n"
          ]
        },
        {
          "output_type": "stream",
          "name": "stdout",
          "text": [
            "Epoch [17/50], Validation Accuracy: 51.75%\n"
          ]
        },
        {
          "output_type": "stream",
          "name": "stderr",
          "text": [
            "Epoch 18: 100%|██████████| 160/160 [00:02<00:00, 73.14it/s]\n"
          ]
        },
        {
          "output_type": "stream",
          "name": "stdout",
          "text": [
            "Epoch [18/50], Validation Accuracy: 53.80%\n"
          ]
        },
        {
          "output_type": "stream",
          "name": "stderr",
          "text": [
            "Epoch 19: 100%|██████████| 160/160 [00:01<00:00, 85.08it/s]\n"
          ]
        },
        {
          "output_type": "stream",
          "name": "stdout",
          "text": [
            "Epoch [19/50], Validation Accuracy: 56.15%\n"
          ]
        },
        {
          "output_type": "stream",
          "name": "stderr",
          "text": [
            "Epoch 20: 100%|██████████| 160/160 [00:01<00:00, 83.89it/s]\n"
          ]
        },
        {
          "output_type": "stream",
          "name": "stdout",
          "text": [
            "Epoch [20/50], Validation Accuracy: 58.25%\n"
          ]
        },
        {
          "output_type": "stream",
          "name": "stderr",
          "text": [
            "Epoch 21: 100%|██████████| 160/160 [00:01<00:00, 85.73it/s]\n"
          ]
        },
        {
          "output_type": "stream",
          "name": "stdout",
          "text": [
            "Epoch [21/50], Validation Accuracy: 60.70%\n"
          ]
        },
        {
          "output_type": "stream",
          "name": "stderr",
          "text": [
            "Epoch 22: 100%|██████████| 160/160 [00:02<00:00, 70.74it/s]\n"
          ]
        },
        {
          "output_type": "stream",
          "name": "stdout",
          "text": [
            "Epoch [22/50], Validation Accuracy: 62.85%\n"
          ]
        },
        {
          "output_type": "stream",
          "name": "stderr",
          "text": [
            "Epoch 23: 100%|██████████| 160/160 [00:02<00:00, 77.29it/s]\n"
          ]
        },
        {
          "output_type": "stream",
          "name": "stdout",
          "text": [
            "Epoch [23/50], Validation Accuracy: 64.60%\n"
          ]
        },
        {
          "output_type": "stream",
          "name": "stderr",
          "text": [
            "Epoch 24: 100%|██████████| 160/160 [00:01<00:00, 84.67it/s]\n"
          ]
        },
        {
          "output_type": "stream",
          "name": "stdout",
          "text": [
            "Epoch [24/50], Validation Accuracy: 66.65%\n"
          ]
        },
        {
          "output_type": "stream",
          "name": "stderr",
          "text": [
            "Epoch 25: 100%|██████████| 160/160 [00:01<00:00, 84.57it/s]\n"
          ]
        },
        {
          "output_type": "stream",
          "name": "stdout",
          "text": [
            "Epoch [25/50], Validation Accuracy: 68.25%\n"
          ]
        },
        {
          "output_type": "stream",
          "name": "stderr",
          "text": [
            "Epoch 26: 100%|██████████| 160/160 [00:01<00:00, 82.45it/s]\n"
          ]
        },
        {
          "output_type": "stream",
          "name": "stdout",
          "text": [
            "Epoch [26/50], Validation Accuracy: 69.85%\n"
          ]
        },
        {
          "output_type": "stream",
          "name": "stderr",
          "text": [
            "Epoch 27: 100%|██████████| 160/160 [00:02<00:00, 70.18it/s]\n"
          ]
        },
        {
          "output_type": "stream",
          "name": "stdout",
          "text": [
            "Epoch [27/50], Validation Accuracy: 71.25%\n"
          ]
        },
        {
          "output_type": "stream",
          "name": "stderr",
          "text": [
            "Epoch 28: 100%|██████████| 160/160 [00:02<00:00, 77.79it/s]\n"
          ]
        },
        {
          "output_type": "stream",
          "name": "stdout",
          "text": [
            "Epoch [28/50], Validation Accuracy: 73.00%\n"
          ]
        },
        {
          "output_type": "stream",
          "name": "stderr",
          "text": [
            "Epoch 29: 100%|██████████| 160/160 [00:01<00:00, 87.29it/s]\n"
          ]
        },
        {
          "output_type": "stream",
          "name": "stdout",
          "text": [
            "Epoch [29/50], Validation Accuracy: 74.40%\n"
          ]
        },
        {
          "output_type": "stream",
          "name": "stderr",
          "text": [
            "Epoch 30: 100%|██████████| 160/160 [00:01<00:00, 83.16it/s]\n"
          ]
        },
        {
          "output_type": "stream",
          "name": "stdout",
          "text": [
            "Epoch [30/50], Validation Accuracy: 75.25%\n"
          ]
        },
        {
          "output_type": "stream",
          "name": "stderr",
          "text": [
            "Epoch 31: 100%|██████████| 160/160 [00:01<00:00, 84.24it/s]\n"
          ]
        },
        {
          "output_type": "stream",
          "name": "stdout",
          "text": [
            "Epoch [31/50], Validation Accuracy: 75.70%\n"
          ]
        },
        {
          "output_type": "stream",
          "name": "stderr",
          "text": [
            "Epoch 32: 100%|██████████| 160/160 [00:02<00:00, 72.06it/s]\n"
          ]
        },
        {
          "output_type": "stream",
          "name": "stdout",
          "text": [
            "Epoch [32/50], Validation Accuracy: 76.40%\n"
          ]
        },
        {
          "output_type": "stream",
          "name": "stderr",
          "text": [
            "Epoch 33: 100%|██████████| 160/160 [00:02<00:00, 79.96it/s]\n"
          ]
        },
        {
          "output_type": "stream",
          "name": "stdout",
          "text": [
            "Epoch [33/50], Validation Accuracy: 77.00%\n"
          ]
        },
        {
          "output_type": "stream",
          "name": "stderr",
          "text": [
            "Epoch 34: 100%|██████████| 160/160 [00:01<00:00, 84.32it/s]\n"
          ]
        },
        {
          "output_type": "stream",
          "name": "stdout",
          "text": [
            "Epoch [34/50], Validation Accuracy: 77.20%\n"
          ]
        },
        {
          "output_type": "stream",
          "name": "stderr",
          "text": [
            "Epoch 35: 100%|██████████| 160/160 [00:01<00:00, 87.00it/s]\n"
          ]
        },
        {
          "output_type": "stream",
          "name": "stdout",
          "text": [
            "Epoch [35/50], Validation Accuracy: 77.20%\n"
          ]
        },
        {
          "output_type": "stream",
          "name": "stderr",
          "text": [
            "Epoch 36: 100%|██████████| 160/160 [00:01<00:00, 87.20it/s]\n"
          ]
        },
        {
          "output_type": "stream",
          "name": "stdout",
          "text": [
            "Epoch [36/50], Validation Accuracy: 77.50%\n"
          ]
        },
        {
          "output_type": "stream",
          "name": "stderr",
          "text": [
            "Epoch 37: 100%|██████████| 160/160 [00:02<00:00, 71.16it/s]\n"
          ]
        },
        {
          "output_type": "stream",
          "name": "stdout",
          "text": [
            "Epoch [37/50], Validation Accuracy: 77.70%\n"
          ]
        },
        {
          "output_type": "stream",
          "name": "stderr",
          "text": [
            "Epoch 38: 100%|██████████| 160/160 [00:02<00:00, 79.28it/s]\n"
          ]
        },
        {
          "output_type": "stream",
          "name": "stdout",
          "text": [
            "Epoch [38/50], Validation Accuracy: 78.00%\n"
          ]
        },
        {
          "output_type": "stream",
          "name": "stderr",
          "text": [
            "Epoch 39: 100%|██████████| 160/160 [00:01<00:00, 83.47it/s]\n"
          ]
        },
        {
          "output_type": "stream",
          "name": "stdout",
          "text": [
            "Epoch [39/50], Validation Accuracy: 78.40%\n"
          ]
        },
        {
          "output_type": "stream",
          "name": "stderr",
          "text": [
            "Epoch 40: 100%|██████████| 160/160 [00:01<00:00, 87.11it/s]\n"
          ]
        },
        {
          "output_type": "stream",
          "name": "stdout",
          "text": [
            "Epoch [40/50], Validation Accuracy: 78.95%\n"
          ]
        },
        {
          "output_type": "stream",
          "name": "stderr",
          "text": [
            "Epoch 41: 100%|██████████| 160/160 [00:01<00:00, 82.82it/s]\n"
          ]
        },
        {
          "output_type": "stream",
          "name": "stdout",
          "text": [
            "Epoch [41/50], Validation Accuracy: 79.25%\n"
          ]
        },
        {
          "output_type": "stream",
          "name": "stderr",
          "text": [
            "Epoch 42: 100%|██████████| 160/160 [00:02<00:00, 75.61it/s]\n"
          ]
        },
        {
          "output_type": "stream",
          "name": "stdout",
          "text": [
            "Epoch [42/50], Validation Accuracy: 79.65%\n"
          ]
        },
        {
          "output_type": "stream",
          "name": "stderr",
          "text": [
            "Epoch 43: 100%|██████████| 160/160 [00:02<00:00, 75.89it/s]\n"
          ]
        },
        {
          "output_type": "stream",
          "name": "stdout",
          "text": [
            "Epoch [43/50], Validation Accuracy: 80.00%\n"
          ]
        },
        {
          "output_type": "stream",
          "name": "stderr",
          "text": [
            "Epoch 44: 100%|██████████| 160/160 [00:01<00:00, 88.41it/s]\n"
          ]
        },
        {
          "output_type": "stream",
          "name": "stdout",
          "text": [
            "Epoch [44/50], Validation Accuracy: 80.10%\n"
          ]
        },
        {
          "output_type": "stream",
          "name": "stderr",
          "text": [
            "Epoch 45: 100%|██████████| 160/160 [00:01<00:00, 86.61it/s]\n"
          ]
        },
        {
          "output_type": "stream",
          "name": "stdout",
          "text": [
            "Epoch [45/50], Validation Accuracy: 80.30%\n"
          ]
        },
        {
          "output_type": "stream",
          "name": "stderr",
          "text": [
            "Epoch 46: 100%|██████████| 160/160 [00:01<00:00, 87.90it/s]\n"
          ]
        },
        {
          "output_type": "stream",
          "name": "stdout",
          "text": [
            "Epoch [46/50], Validation Accuracy: 80.45%\n"
          ]
        },
        {
          "output_type": "stream",
          "name": "stderr",
          "text": [
            "Epoch 47: 100%|██████████| 160/160 [00:02<00:00, 69.59it/s]\n"
          ]
        },
        {
          "output_type": "stream",
          "name": "stdout",
          "text": [
            "Epoch [47/50], Validation Accuracy: 80.60%\n"
          ]
        },
        {
          "output_type": "stream",
          "name": "stderr",
          "text": [
            "Epoch 48: 100%|██████████| 160/160 [00:01<00:00, 86.29it/s]\n"
          ]
        },
        {
          "output_type": "stream",
          "name": "stdout",
          "text": [
            "Epoch [48/50], Validation Accuracy: 80.75%\n"
          ]
        },
        {
          "output_type": "stream",
          "name": "stderr",
          "text": [
            "Epoch 49: 100%|██████████| 160/160 [00:01<00:00, 86.24it/s]\n"
          ]
        },
        {
          "output_type": "stream",
          "name": "stdout",
          "text": [
            "Epoch [49/50], Validation Accuracy: 81.15%\n"
          ]
        },
        {
          "output_type": "stream",
          "name": "stderr",
          "text": [
            "Epoch 50: 100%|██████████| 160/160 [00:01<00:00, 86.85it/s]\n"
          ]
        },
        {
          "output_type": "stream",
          "name": "stdout",
          "text": [
            "Epoch [50/50], Validation Accuracy: 81.30%\n"
          ]
        }
      ]
    },
    {
      "cell_type": "code",
      "source": [
        "# TODO: Show loss and accuracy plots\n",
        "import numpy as np\n",
        "import matplotlib.pyplot as plt\n",
        "\n",
        "# Initialize empty lists to store metrics\n",
        "train_losses = []\n",
        "val_losses = []\n",
        "train_accuracies = []\n",
        "val_accuracies = []\n",
        "\n",
        "# Training loop\n",
        "for epoch in range(num_epochs):\n",
        "    # Train the model\n",
        "    model.train()\n",
        "    for batch_idx, (data, targets) in enumerate(train_loader):\n",
        "        optimizer.zero_grad()\n",
        "        outputs = model(data.to(device))\n",
        "        loss = loss_func(outputs, targets.to(device))\n",
        "        loss.backward()\n",
        "        optimizer.step()\n",
        "\n",
        "    # Validate the model\n",
        "    model.eval()\n",
        "    train_correct = 0\n",
        "    val_correct = 0\n",
        "    train_total = 0\n",
        "    val_total = 0\n",
        "    train_loss_total = 0\n",
        "    val_loss_total = 0\n",
        "    with torch.no_grad():\n",
        "        for data, targets in train_loader:\n",
        "            outputs = model(data.to(device))\n",
        "            train_loss = loss_func(outputs, targets.to(device))\n",
        "            train_loss_total += train_loss.item()\n",
        "            _, train_predicted = torch.max(outputs, 1)\n",
        "            train_total += targets.size(0)\n",
        "            train_correct += (train_predicted == targets.to(device)).sum().item()\n",
        "        for data, targets in val_loader:\n",
        "            outputs = model(data.to(device))\n",
        "            val_loss = loss_func(outputs, targets.to(device))\n",
        "            val_loss_total += val_loss.item()\n",
        "            _, val_predicted = torch.max(outputs, 1)\n",
        "            val_total += targets.size(0)\n",
        "            val_correct += (val_predicted == targets.to(device)).sum().item()\n",
        "\n",
        "    # Calculate metrics\n",
        "    train_loss_avg = train_loss_total / len(train_loader)\n",
        "    val_loss_avg = val_loss_total / len(val_loader)\n",
        "    train_accuracy = 100 * train_correct / train_total\n",
        "    val_accuracy = 100 * val_correct / val_total\n",
        "\n",
        "    # Append metrics to lists\n",
        "    train_losses.append(train_loss_avg)\n",
        "    val_losses.append(val_loss_avg)\n",
        "    train_accuracies.append(train_accuracy)\n",
        "    val_accuracies.append(val_accuracy)\n",
        "\n",
        "    # Print epoch statistics\n",
        "    print(f\"Epoch [{epoch+1}/{num_epochs}], Train Loss: {train_loss_avg:.4f}, Train Acc: {train_accuracy:.2f}%, Val Loss: {val_loss_avg:.4f}, Val Acc: {val_accuracy:.2f}%\")\n",
        "\n",
        "# Plot loss and accuracy curves\n",
        "plt.figure(figsize=(10, 5))\n",
        "plt.plot(range(1, num_epochs + 1), train_losses, label='Train Loss')\n",
        "plt.plot(range(1, num_epochs + 1), val_losses, label='Val Loss')\n",
        "plt.xlabel('Epoch')\n",
        "plt.ylabel('Loss')\n",
        "plt.title('Training and Validation Loss')\n",
        "plt.legend()\n",
        "plt.show()\n",
        "\n",
        "plt.figure(figsize=(10, 5))\n",
        "plt.plot(range(1, num_epochs + 1), train_accuracies, label='Train Accuracy')\n",
        "plt.plot(range(1, num_epochs + 1), val_accuracies, label='Val Accuracy')\n",
        "plt.xlabel('Epoch')\n",
        "plt.ylabel('Accuracy')\n",
        "plt.title('Training and Validation Accuracy')\n",
        "plt.legend()\n",
        "plt.show()"
      ],
      "metadata": {
        "id": "gOYpDCsi8q2O",
        "colab": {
          "base_uri": "https://localhost:8080/",
          "height": 1000
        },
        "outputId": "037e6992-d402-4c30-e33f-4c9fc4c595ba"
      },
      "execution_count": 24,
      "outputs": [
        {
          "output_type": "stream",
          "name": "stdout",
          "text": [
            "Epoch [1/50], Train Loss: 0.9727, Train Acc: 82.10%, Val Loss: 0.9923, Val Acc: 81.20%\n",
            "Epoch [2/50], Train Loss: 0.9584, Train Acc: 82.19%, Val Loss: 0.9780, Val Acc: 81.35%\n",
            "Epoch [3/50], Train Loss: 0.9447, Train Acc: 82.36%, Val Loss: 0.9643, Val Acc: 81.50%\n",
            "Epoch [4/50], Train Loss: 0.9315, Train Acc: 82.61%, Val Loss: 0.9509, Val Acc: 81.60%\n",
            "Epoch [5/50], Train Loss: 0.9188, Train Acc: 82.75%, Val Loss: 0.9382, Val Acc: 81.75%\n",
            "Epoch [6/50], Train Loss: 0.9065, Train Acc: 82.84%, Val Loss: 0.9259, Val Acc: 81.85%\n",
            "Epoch [7/50], Train Loss: 0.8947, Train Acc: 82.88%, Val Loss: 0.9141, Val Acc: 81.95%\n",
            "Epoch [8/50], Train Loss: 0.8833, Train Acc: 83.08%, Val Loss: 0.9026, Val Acc: 82.05%\n",
            "Epoch [9/50], Train Loss: 0.8723, Train Acc: 83.16%, Val Loss: 0.8916, Val Acc: 82.15%\n",
            "Epoch [10/50], Train Loss: 0.8617, Train Acc: 83.21%, Val Loss: 0.8809, Val Acc: 82.30%\n",
            "Epoch [11/50], Train Loss: 0.8514, Train Acc: 83.25%, Val Loss: 0.8706, Val Acc: 82.35%\n",
            "Epoch [12/50], Train Loss: 0.8414, Train Acc: 83.44%, Val Loss: 0.8606, Val Acc: 82.40%\n",
            "Epoch [13/50], Train Loss: 0.8318, Train Acc: 83.59%, Val Loss: 0.8510, Val Acc: 82.40%\n",
            "Epoch [14/50], Train Loss: 0.8225, Train Acc: 83.70%, Val Loss: 0.8417, Val Acc: 82.55%\n",
            "Epoch [15/50], Train Loss: 0.8134, Train Acc: 83.83%, Val Loss: 0.8327, Val Acc: 82.60%\n",
            "Epoch [16/50], Train Loss: 0.8047, Train Acc: 83.92%, Val Loss: 0.8239, Val Acc: 82.60%\n",
            "Epoch [17/50], Train Loss: 0.7962, Train Acc: 84.04%, Val Loss: 0.8154, Val Acc: 82.70%\n",
            "Epoch [18/50], Train Loss: 0.7880, Train Acc: 84.19%, Val Loss: 0.8072, Val Acc: 82.80%\n",
            "Epoch [19/50], Train Loss: 0.7800, Train Acc: 84.28%, Val Loss: 0.7992, Val Acc: 82.85%\n",
            "Epoch [20/50], Train Loss: 0.7722, Train Acc: 84.40%, Val Loss: 0.7914, Val Acc: 83.00%\n",
            "Epoch [21/50], Train Loss: 0.7647, Train Acc: 84.45%, Val Loss: 0.7839, Val Acc: 83.05%\n",
            "Epoch [22/50], Train Loss: 0.7574, Train Acc: 84.51%, Val Loss: 0.7766, Val Acc: 83.00%\n",
            "Epoch [23/50], Train Loss: 0.7503, Train Acc: 84.60%, Val Loss: 0.7695, Val Acc: 83.20%\n",
            "Epoch [24/50], Train Loss: 0.7434, Train Acc: 84.75%, Val Loss: 0.7625, Val Acc: 83.20%\n",
            "Epoch [25/50], Train Loss: 0.7366, Train Acc: 84.81%, Val Loss: 0.7558, Val Acc: 83.25%\n",
            "Epoch [26/50], Train Loss: 0.7301, Train Acc: 84.84%, Val Loss: 0.7493, Val Acc: 83.25%\n",
            "Epoch [27/50], Train Loss: 0.7237, Train Acc: 85.06%, Val Loss: 0.7429, Val Acc: 83.30%\n",
            "Epoch [28/50], Train Loss: 0.7175, Train Acc: 85.14%, Val Loss: 0.7367, Val Acc: 83.45%\n",
            "Epoch [29/50], Train Loss: 0.7114, Train Acc: 85.17%, Val Loss: 0.7307, Val Acc: 83.55%\n",
            "Epoch [30/50], Train Loss: 0.7055, Train Acc: 85.17%, Val Loss: 0.7247, Val Acc: 83.65%\n",
            "Epoch [31/50], Train Loss: 0.6997, Train Acc: 85.28%, Val Loss: 0.7190, Val Acc: 83.65%\n",
            "Epoch [32/50], Train Loss: 0.6941, Train Acc: 85.38%, Val Loss: 0.7134, Val Acc: 83.65%\n",
            "Epoch [33/50], Train Loss: 0.6887, Train Acc: 85.41%, Val Loss: 0.7080, Val Acc: 83.65%\n",
            "Epoch [34/50], Train Loss: 0.6833, Train Acc: 85.46%, Val Loss: 0.7026, Val Acc: 83.70%\n",
            "Epoch [35/50], Train Loss: 0.6781, Train Acc: 85.50%, Val Loss: 0.6974, Val Acc: 83.85%\n",
            "Epoch [36/50], Train Loss: 0.6730, Train Acc: 85.56%, Val Loss: 0.6924, Val Acc: 83.90%\n",
            "Epoch [37/50], Train Loss: 0.6680, Train Acc: 85.59%, Val Loss: 0.6874, Val Acc: 83.90%\n",
            "Epoch [38/50], Train Loss: 0.6631, Train Acc: 85.67%, Val Loss: 0.6826, Val Acc: 84.05%\n",
            "Epoch [39/50], Train Loss: 0.6584, Train Acc: 85.71%, Val Loss: 0.6778, Val Acc: 84.00%\n",
            "Epoch [40/50], Train Loss: 0.6537, Train Acc: 85.74%, Val Loss: 0.6733, Val Acc: 84.10%\n",
            "Epoch [41/50], Train Loss: 0.6492, Train Acc: 85.78%, Val Loss: 0.6687, Val Acc: 84.00%\n",
            "Epoch [42/50], Train Loss: 0.6447, Train Acc: 85.80%, Val Loss: 0.6643, Val Acc: 84.10%\n",
            "Epoch [43/50], Train Loss: 0.6404, Train Acc: 85.84%, Val Loss: 0.6599, Val Acc: 84.15%\n",
            "Epoch [44/50], Train Loss: 0.6361, Train Acc: 85.95%, Val Loss: 0.6557, Val Acc: 84.20%\n",
            "Epoch [45/50], Train Loss: 0.6320, Train Acc: 86.00%, Val Loss: 0.6516, Val Acc: 84.20%\n",
            "Epoch [46/50], Train Loss: 0.6279, Train Acc: 86.05%, Val Loss: 0.6476, Val Acc: 84.55%\n",
            "Epoch [47/50], Train Loss: 0.6239, Train Acc: 86.06%, Val Loss: 0.6436, Val Acc: 84.50%\n",
            "Epoch [48/50], Train Loss: 0.6200, Train Acc: 86.10%, Val Loss: 0.6397, Val Acc: 84.65%\n",
            "Epoch [49/50], Train Loss: 0.6161, Train Acc: 86.17%, Val Loss: 0.6359, Val Acc: 84.70%\n",
            "Epoch [50/50], Train Loss: 0.6124, Train Acc: 86.24%, Val Loss: 0.6322, Val Acc: 84.65%\n"
          ]
        },
        {
          "output_type": "display_data",
          "data": {
            "text/plain": [
              "<Figure size 1000x500 with 1 Axes>"
            ],
            "image/png": "[encoded data removed]"
          },
          "metadata": {}
        },
        {
          "output_type": "display_data",
          "data": {
            "text/plain": [
              "<Figure size 1000x500 with 1 Axes>"
            ],
            "image/png": "[encoded data removed]"
          },
          "metadata": {}
        }
      ]
    },
    {
      "cell_type": "code",
      "source": [
        "# Evaluate the model on the test data\n",
        "model.eval()\n",
        "test_correct = 0\n",
        "test_total = 0\n",
        "with torch.no_grad():\n",
        "    for data, targets in test_loader:\n",
        "        outputs = model(data.to(device))\n",
        "        _, predicted = torch.max(outputs, 1)\n",
        "        test_total += targets.size(0)\n",
        "        test_correct += (predicted == targets.to(device)).sum().item()\n",
        "\n",
        "# Calculate test accuracy\n",
        "test_accuracy = 100 * test_correct / test_total\n",
        "\n",
        "# Print test accuracy\n",
        "print(f\"Test Accuracy: {test_accuracy:.2f}%\")"
      ],
      "metadata": {
        "id": "iExsjq3l2mIO",
        "colab": {
          "base_uri": "https://localhost:8080/"
        },
        "outputId": "7a757d24-bf0a-450b-a3f2-85bf58cb3795"
      },
      "execution_count": 25,
      "outputs": [
        {
          "output_type": "stream",
          "name": "stdout",
          "text": [
            "Test Accuracy: 86.24%\n"
          ]
        }
      ]
    },
    {
      "cell_type": "markdown",
      "source": [
        "# Q4"
      ],
      "metadata": {
        "id": "veCPdvT43o9I"
      }
    },
    {
      "cell_type": "code",
      "source": [
        "# TODO: Extract the weight matrix of the first hidden layer\n",
        "weight_matrix_fc1 = model.fc1.weight.detach().cpu().numpy()\n",
        "\n",
        "# TODO: Normalize each row of the weight matrix to [0, 1]\n",
        "normalized_weight_matrix = (weight_matrix_fc1 - weight_matrix_fc1.min(axis=1, keepdims=True)) / (weight_matrix_fc1.max(axis=1, keepdims=True) - weight_matrix_fc1.min(axis=1, keepdims=True))\n",
        "\n",
        "# Visualize the first 9 rows of the normalized weight matrix\n",
        "num_rows_to_visualize = 9\n",
        "fig, axes = plt.subplots(num_rows_to_visualize, 1, figsize=(10, 20))\n",
        "for i in range(num_rows_to_visualize):\n",
        "    axes[i].imshow(normalized_weight_matrix[i].reshape(28, 28), cmap='gray')\n",
        "    axes[i].set_title(f'Weight Vector {i+1}')\n",
        "    axes[i].axis('off')\n",
        "\n",
        "plt.tight_layout()\n",
        "plt.show()"
      ],
      "metadata": {
        "id": "U7GBGemi3gAm",
        "colab": {
          "base_uri": "https://localhost:8080/",
          "height": 1000
        },
        "outputId": "6a3fba2a-96b2-4b92-82c1-63248cb0ae69"
      },
      "execution_count": 26,
      "outputs": [
        {
          "output_type": "display_data",
          "data": {
            "text/plain": [
              "<Figure size 1000x2000 with 9 Axes>"
            ],
            "image/png": "[encoded data removed]"
          },
          "metadata": {}
        }
      ]
    }
  ]
}
